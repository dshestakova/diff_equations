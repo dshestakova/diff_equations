{
  "nbformat": 4,
  "nbformat_minor": 0,
  "metadata": {
    "colab": {
      "name": "diff_2.ipynb",
      "provenance": []
    },
    "kernelspec": {
      "name": "python3",
      "display_name": "Python 3"
    },
    "language_info": {
      "name": "python"
    }
  },
  "cells": [
    {
      "cell_type": "code",
      "metadata": {
        "id": "-hLTfcPnoA7t"
      },
      "source": [
        "import numpy as np\n",
        "import matplotlib as mpl\n",
        "import numpy.linalg as lng\n",
        "import math as mt"
      ],
      "execution_count": 4,
      "outputs": []
    },
    {
      "cell_type": "markdown",
      "metadata": {
        "id": "Knzxu-UgpF29"
      },
      "source": [
        "По условию, матрицы $K$ и $T$ задаются таким образом: "
      ]
    },
    {
      "cell_type": "code",
      "metadata": {
        "id": "NK9inuHwovrm"
      },
      "source": [
        "def K_n(n):\n",
        "    K = np.full((n, n), 0)\n",
        "    for j in range(n):\n",
        "        for k in range(n):\n",
        "            if k==j:\n",
        "                K[j][k] = 2\n",
        "            if abs(j - k)==1:\n",
        "                K[j][k] = -1\n",
        "    return K\n",
        "\n",
        "\n",
        "def T_n(n):\n",
        "    T = K_n(n)\n",
        "    T[0][0] = 1\n",
        "    return T\n",
        "\n",
        "\n",
        "def C_n(n):\n",
        "    C = K_n(n)\n",
        "    C[0][n-1] = -1\n",
        "    C[n-1][0] = -1\n",
        "    return C\n",
        "\n",
        "\n",
        "def B_n(n):\n",
        "    B = K_n(n)\n",
        "    B[0][0] = 1\n",
        "    B[n-1][n-1] = 1\n",
        "    return B"
      ],
      "execution_count": 48,
      "outputs": []
    },
    {
      "cell_type": "markdown",
      "metadata": {
        "id": "4r-uetlx0y6p"
      },
      "source": [
        "### Задание 6"
      ]
    },
    {
      "cell_type": "markdown",
      "metadata": {
        "id": "o9sGkMC1xHbb"
      },
      "source": [
        "Проверим, что $K_3 = A_1 A_1^T$:"
      ]
    },
    {
      "cell_type": "code",
      "metadata": {
        "id": "za_yStgexHm1"
      },
      "source": [
        "def A():\n",
        "    A = np.full((3, 4), 0)\n",
        "    for j in range(3):\n",
        "        for k in range(4):\n",
        "            if j == k:\n",
        "                A[j][k] = -1\n",
        "            if k - j == 1:\n",
        "                A[j][k] = 1\n",
        "    return A"
      ],
      "execution_count": 70,
      "outputs": []
    },
    {
      "cell_type": "code",
      "metadata": {
        "colab": {
          "base_uri": "https://localhost:8080/"
        },
        "id": "UC5ENzTbx3AJ",
        "outputId": "d6719813-6f73-4893-8076-60abb273c89f"
      },
      "source": [
        "print(A().dot(np.transpose(A())))\n",
        "print()\n",
        "print(K_n(3))"
      ],
      "execution_count": 80,
      "outputs": [
        {
          "output_type": "stream",
          "name": "stdout",
          "text": [
            "[[ 2 -1  0]\n",
            " [-1  2 -1]\n",
            " [ 0 -1  2]]\n",
            "\n",
            "[[ 2 -1  0]\n",
            " [-1  2 -1]\n",
            " [ 0 -1  2]]\n"
          ]
        }
      ]
    },
    {
      "cell_type": "code",
      "metadata": {
        "colab": {
          "base_uri": "https://localhost:8080/"
        },
        "id": "2OvUkhfh2uH0",
        "outputId": "187f17bd-8167-4d3a-bb15-9cad075ff97f"
      },
      "source": [
        "A_1 = np.delete(A(), 0, 1) \n",
        "print(A_1.dot(np.transpose(A_1)))\n",
        "print()\n",
        "print(T_n(3))"
      ],
      "execution_count": 88,
      "outputs": [
        {
          "output_type": "stream",
          "name": "stdout",
          "text": [
            "[[ 1 -1  0]\n",
            " [-1  2 -1]\n",
            " [ 0 -1  2]]\n",
            "\n",
            "[[ 1 -1  0]\n",
            " [-1  2 -1]\n",
            " [ 0 -1  2]]\n"
          ]
        }
      ]
    },
    {
      "cell_type": "code",
      "metadata": {
        "colab": {
          "base_uri": "https://localhost:8080/"
        },
        "id": "MRHuHbHL3X93",
        "outputId": "50c27ba7-3d96-4292-d4bf-ee4d7e8e00c3"
      },
      "source": [
        "A_2 = np.delete(A(), 1, 1) \n",
        "print(A_2.dot(np.transpose(A_2)))\n",
        "print()\n",
        "print(B_n(3))\n",
        "print('При удалении 2го столбца равенство не получаем')"
      ],
      "execution_count": 97,
      "outputs": [
        {
          "output_type": "stream",
          "name": "stdout",
          "text": [
            "[[ 1  0  0]\n",
            " [ 0  1 -1]\n",
            " [ 0 -1  2]]\n",
            "\n",
            "[[ 1 -1  0]\n",
            " [-1  2 -1]\n",
            " [ 0 -1  1]]\n",
            "При удалении 2го столбца равенство не получаем\n"
          ]
        }
      ]
    },
    {
      "cell_type": "code",
      "metadata": {
        "colab": {
          "base_uri": "https://localhost:8080/"
        },
        "id": "aX9ADvSm3zIw",
        "outputId": "ade7284b-506c-4d5c-a191-b0bf6ae4d815"
      },
      "source": [
        "A_3 = np.delete(A_1, 2, 1) \n",
        "print(A_3.dot(np.transpose(A_3)))\n",
        "print()\n",
        "print(B_n(3))\n",
        "print('При удалении 3го столбца равенство получаем')"
      ],
      "execution_count": 103,
      "outputs": [
        {
          "output_type": "stream",
          "name": "stdout",
          "text": [
            "[[ 1 -1  0]\n",
            " [-1  2 -1]\n",
            " [ 0 -1  1]]\n",
            "\n",
            "[[ 1 -1  0]\n",
            " [-1  2 -1]\n",
            " [ 0 -1  1]]\n",
            "При удалении 3го столбца равенство получаем\n"
          ]
        }
      ]
    },
    {
      "cell_type": "markdown",
      "metadata": {
        "id": "gj6gT2VG5W5Z"
      },
      "source": [
        "### Задание 7"
      ]
    },
    {
      "cell_type": "code",
      "metadata": {
        "id": "Uy6_X5AA5gOr"
      },
      "source": [
        "def get_T(n):\n",
        "  return lng.inv(T_n(n))"
      ],
      "execution_count": 105,
      "outputs": []
    },
    {
      "cell_type": "code",
      "metadata": {
        "colab": {
          "base_uri": "https://localhost:8080/"
        },
        "id": "T_ynjmhk50xc",
        "outputId": "a53d2715-fae2-469e-f71e-b395ae790975"
      },
      "source": [
        "print(get_T(3))\n",
        "print()\n",
        "print(get_T(4))\n",
        "print('Совпадают')"
      ],
      "execution_count": 110,
      "outputs": [
        {
          "output_type": "stream",
          "name": "stdout",
          "text": [
            "[[3. 2. 1.]\n",
            " [2. 2. 1.]\n",
            " [1. 1. 1.]]\n",
            "\n",
            "[[4. 3. 2. 1.]\n",
            " [3. 3. 2. 1.]\n",
            " [2. 2. 2. 1.]\n",
            " [1. 1. 1. 1.]]\n",
            "Совпадают\n"
          ]
        }
      ]
    },
    {
      "cell_type": "code",
      "metadata": {
        "colab": {
          "base_uri": "https://localhost:8080/"
        },
        "id": "W-ISlgfu6H6d",
        "outputId": "2c234836-f844-42db-a585-7c800415da14"
      },
      "source": [
        "print(get_T(5))\n",
        "print('Wolfram сказал, что правильно:)')"
      ],
      "execution_count": 113,
      "outputs": [
        {
          "output_type": "stream",
          "name": "stdout",
          "text": [
            "[[5. 4. 3. 2. 1.]\n",
            " [4. 4. 3. 2. 1.]\n",
            " [3. 3. 3. 2. 1.]\n",
            " [2. 2. 2. 2. 1.]\n",
            " [1. 1. 1. 1. 1.]]\n",
            "Wolfram сказал, что правильно:)\n"
          ]
        }
      ]
    },
    {
      "cell_type": "markdown",
      "metadata": {
        "id": "jYWygMjfoxeu"
      },
      "source": [
        "### Задание 8 "
      ]
    },
    {
      "cell_type": "markdown",
      "metadata": {
        "id": "EFzCQ8Msqa3s"
      },
      "source": [
        "Вычислим $det(K_n)$, $K_n^{-1}$, $det(K_n) \\cdot K_n^{-1}$:"
      ]
    },
    {
      "cell_type": "code",
      "metadata": {
        "colab": {
          "base_uri": "https://localhost:8080/"
        },
        "id": "h85bloKSqZTh",
        "outputId": "dea72539-72ea-4ecf-a330-37ad09c5808b"
      },
      "source": [
        "def get_det():\n",
        "  for j in range(2,6):\n",
        "      print('det(K_', j,') =', round(lng.det(K_n(j))))\n",
        "get_det()"
      ],
      "execution_count": 13,
      "outputs": [
        {
          "output_type": "stream",
          "name": "stdout",
          "text": [
            "det(K_ 2 ) = 3\n",
            "det(K_ 3 ) = 4\n",
            "det(K_ 4 ) = 5\n",
            "det(K_ 5 ) = 6\n"
          ]
        }
      ]
    },
    {
      "cell_type": "code",
      "metadata": {
        "colab": {
          "base_uri": "https://localhost:8080/"
        },
        "id": "uQFz_Xr4ru7n",
        "outputId": "2ec374e4-a777-4365-c26c-56fc3e5d30cb"
      },
      "source": [
        "def get_det_inv():\n",
        "  for j in range(2,6):\n",
        "      print('det(K_', j,') =', lng.det(lng.inv(K_n(j))))\n",
        "get_det_inv()"
      ],
      "execution_count": 16,
      "outputs": [
        {
          "output_type": "stream",
          "name": "stdout",
          "text": [
            "det(K_ 2 ) = 0.3333333333333333\n",
            "det(K_ 3 ) = 0.25000000000000006\n",
            "det(K_ 4 ) = 0.2\n",
            "det(K_ 5 ) = 0.1666666666666666\n"
          ]
        }
      ]
    },
    {
      "cell_type": "code",
      "metadata": {
        "colab": {
          "base_uri": "https://localhost:8080/"
        },
        "id": "Pbu1in8osr8r",
        "outputId": "4c17d415-85c7-4a57-c9fc-e67ff49b7264"
      },
      "source": [
        "def get_dot_det():\n",
        "  for j in range(2,6):\n",
        "      print('det K', j, '=', lng.det(lng.inv(K_n(j)).dot(K_n(j))))\n",
        "get_dot_det()"
      ],
      "execution_count": 18,
      "outputs": [
        {
          "output_type": "stream",
          "name": "stdout",
          "text": [
            "det K 2 = 1.0\n",
            "det K 3 = 0.9999999999999999\n",
            "det K 4 = 0.9999999999999997\n",
            "det K 5 = 1.0\n"
          ]
        }
      ]
    },
    {
      "cell_type": "markdown",
      "metadata": {
        "id": "LgMEc9l0tTp8"
      },
      "source": [
        "Посчитаем $K_3^{-1}$:"
      ]
    },
    {
      "cell_type": "code",
      "metadata": {
        "colab": {
          "base_uri": "https://localhost:8080/"
        },
        "id": "2x_nC7NztGwl",
        "outputId": "b396bd5e-8128-44ba-bfda-c60df7177713"
      },
      "source": [
        "lng.inv(K_n(3)) * 4"
      ],
      "execution_count": 20,
      "outputs": [
        {
          "output_type": "execute_result",
          "data": {
            "text/plain": [
              "array([[3., 2., 1.],\n",
              "       [2., 4., 2.],\n",
              "       [1., 2., 3.]])"
            ]
          },
          "metadata": {},
          "execution_count": 20
        }
      ]
    },
    {
      "cell_type": "code",
      "metadata": {
        "colab": {
          "base_uri": "https://localhost:8080/"
        },
        "id": "B8faL6ultois",
        "outputId": "90d93f84-23b7-4589-83bf-5359c637a1ae"
      },
      "source": [
        "lng.inv(K_n(4)) * 5"
      ],
      "execution_count": 21,
      "outputs": [
        {
          "output_type": "execute_result",
          "data": {
            "text/plain": [
              "array([[4., 3., 2., 1.],\n",
              "       [3., 6., 4., 2.],\n",
              "       [2., 4., 6., 3.],\n",
              "       [1., 2., 3., 4.]])"
            ]
          },
          "metadata": {},
          "execution_count": 21
        }
      ]
    },
    {
      "cell_type": "markdown",
      "metadata": {
        "id": "4EkfVHtcuke-"
      },
      "source": [
        "Проверяем:"
      ]
    },
    {
      "cell_type": "code",
      "metadata": {
        "id": "dSuyfFc1t466"
      },
      "source": [
        "def check(n):\n",
        "  return (lng.inv(T_n(n)) - lng.inv(K_n(n))) * (n + 1)\n",
        "\n",
        "def get_rank(check):\n",
        "  return (lng.matrix_rank(check))"
      ],
      "execution_count": 44,
      "outputs": []
    },
    {
      "cell_type": "code",
      "metadata": {
        "colab": {
          "base_uri": "https://localhost:8080/"
        },
        "id": "d28RVBOaum6L",
        "outputId": "2609d16d-5903-45a8-9d80-b7b4a089b88a"
      },
      "source": [
        "print('Для n = 4:')\n",
        "print(check(4))\n",
        "print('Ранг =', get_rank(check(4)))\n",
        "print()\n",
        "print('Для n = 3:')\n",
        "print(check(3))\n",
        "print('Ранг =', get_rank(check(3)))"
      ],
      "execution_count": 45,
      "outputs": [
        {
          "output_type": "stream",
          "name": "stdout",
          "text": [
            "Для n = 4:\n",
            "[[16. 12.  8.  4.]\n",
            " [12.  9.  6.  3.]\n",
            " [ 8.  6.  4.  2.]\n",
            " [ 4.  3.  2.  1.]]\n",
            "Ранг = 1\n",
            "\n",
            "Для n = 3:\n",
            "[[9. 6. 3.]\n",
            " [6. 4. 2.]\n",
            " [3. 2. 1.]]\n",
            "Ранг = 1\n"
          ]
        }
      ]
    },
    {
      "cell_type": "code",
      "metadata": {
        "colab": {
          "base_uri": "https://localhost:8080/"
        },
        "id": "XPdbYZgQusqD",
        "outputId": "c7f591d6-d946-43f4-a967-9c09c711a24d"
      },
      "source": [
        "K_n(3) - T_n(3)"
      ],
      "execution_count": 46,
      "outputs": [
        {
          "output_type": "execute_result",
          "data": {
            "text/plain": [
              "array([[1, 0, 0],\n",
              "       [0, 0, 0],\n",
              "       [0, 0, 0]])"
            ]
          },
          "metadata": {},
          "execution_count": 46
        }
      ]
    },
    {
      "cell_type": "code",
      "metadata": {
        "id": "odFraVn3wNk_"
      },
      "source": [
        ""
      ],
      "execution_count": null,
      "outputs": []
    }
  ]
}