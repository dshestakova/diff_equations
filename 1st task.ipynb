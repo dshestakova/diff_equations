{
  "nbformat": 4,
  "nbformat_minor": 0,
  "metadata": {
    "colab": {
      "name": "Diff.ipynb",
      "provenance": [],
      "collapsed_sections": []
    },
    "kernelspec": {
      "name": "python3",
      "display_name": "Python 3"
    },
    "language_info": {
      "name": "python"
    }
  },
  "cells": [
    {
      "cell_type": "markdown",
      "metadata": {
        "id": "0P7sAOANdqyy"
      },
      "source": [
        "№2-3 Вычислим интеграл <tex>$\\int\\limits_0^{2\\pi}\\ \\frac{dx}{2+cos(x)}$</tex> методами трапеций и Симпсона:"
      ]
    },
    {
      "cell_type": "code",
      "metadata": {
        "colab": {
          "base_uri": "https://localhost:8080/"
        },
        "id": "1D379SspduGI",
        "outputId": "b349fe8f-4c59-41f2-8524-7a09f2b926c6"
      },
      "source": [
        "import scipy as sp\n",
        "import numpy as np\n",
        "import matplotlib.pyplot as plt\n",
        "import math\n",
        "\n",
        "\n",
        "def get_func(x):\n",
        "  return (1/(2+math.cos(x)))\n",
        "\n",
        "left = 0*np.pi\n",
        "right = 2*np.pi\n",
        "\n",
        "\n",
        "def integrate(get_func, left, right, n):\n",
        "  I = 0\n",
        "  In = np.zeros((n+1,))\n",
        "  step = (right-left)/n\n",
        "  for i in range (n+1):\n",
        "    I += step*(get_func(left+step*i)+get_func(left+step*(i+1)))/2 \n",
        "    In[i] = I\n",
        "  return (I, In)\n",
        "\n",
        "\n",
        "def simpson(get_func, left, right, n):\n",
        "    step = (right - left) / n\n",
        "    n = int(0.5*n)\n",
        "    I = 0\n",
        "    In = np.zeros((n+1, ))\n",
        "    for i in range(1, n):\n",
        "        I += step/3 * (get_func(left + (2 * i) * step) + 4 * get_func(left + (2 * i + 1) * step) + get_func(left + (2 * i + 2) * step))\n",
        "        In[i] = I\n",
        "    return (I, In)\n",
        "\n",
        "\n",
        "\n",
        "Integral, array  = integrate(get_func, left, right, 512)\n",
        "print('Используем метод трапеций:')\n",
        "print(Integral)\n",
        "print()\n",
        "Integral, array  = simpson(get_func, left, right, 512)\n",
        "print('Используем метод Симпсона:')\n",
        "print(Integral)\n"
      ],
      "execution_count": 18,
      "outputs": [
        {
          "output_type": "stream",
          "name": "stdout",
          "text": [
            "Используем метод трапеций:\n",
            "3.6316893952400537\n",
            "\n",
            "Используем метод Симпсона:\n",
            "3.6194172237958453\n"
          ]
        }
      ]
    },
    {
      "cell_type": "markdown",
      "metadata": {
        "id": "rIQPYZoxyiQf"
      },
      "source": [
        "Посчитаем ошибку по формуле $R_{k} = \\frac{I_{2k} - I_{k}}{I_{4k} - I_{2k}}$ для двух методов подсчета интергала:"
      ]
    },
    {
      "cell_type": "code",
      "metadata": {
        "colab": {
          "base_uri": "https://localhost:8080/",
          "height": 571
        },
        "id": "uMFOOaO0pkJR",
        "outputId": "f339a14a-c482-4384-bc24-8b1692f9d0be"
      },
      "source": [
        "def I(func, left, right):\n",
        "  return lambda iter: func(get_func, left, right, iter)[0]\n",
        "\n",
        "def mistake(integrate):\n",
        "  R = []\n",
        "  i = 2\n",
        "  Rr = 0\n",
        "  In = I(integrate, left, right)\n",
        "  while i <= 512:\n",
        "    Rr = (In(2*i) - In(i))/(In(4*i) - In(2*i))\n",
        "    R.append(Rr)\n",
        "    i = 2*i\n",
        "  return R\n",
        "\n",
        "# print(mistake(integrate))\n",
        "\n",
        "\n",
        "plt.plot(2**np.arange(1, 10),  mistake(intagrate));\n",
        "plt.plot(2**np.arange(1, 10),  mistake(simpson));\n",
        "\n",
        "mistake(integrate), mistake(simpson)"
      ],
      "execution_count": 19,
      "outputs": [
        {
          "output_type": "execute_result",
          "data": {
            "text/plain": [
              "([4.720662509321808,\n",
              "  2.897479013707054,\n",
              "  2.1443841738778318,\n",
              "  2.034144718392386,\n",
              "  2.0084591481589804,\n",
              "  2.0021099777527716,\n",
              "  2.0005271939087437,\n",
              "  2.000131779701167,\n",
              "  2.00003294373275],\n",
              " [1.3797104914755307,\n",
              "  3.654534231484599,\n",
              "  2.488491545111734,\n",
              "  2.093592998052642,\n",
              "  2.022655416876077,\n",
              "  2.0056326943149885,\n",
              "  2.0014062306131213,\n",
              "  2.0003514362774095,\n",
              "  2.0000878514927756])"
            ]
          },
          "metadata": {},
          "execution_count": 19
        },
        {
          "output_type": "display_data",
          "data": {
            "image/png": "[encoded data removed]",
            "text/plain": [
              "<Figure size 432x288 with 1 Axes>"
            ]
          },
          "metadata": {
            "needs_background": "light"
          }
        }
      ]
    },
    {
      "cell_type": "markdown",
      "metadata": {
        "id": "DwNbKPBE0SPc"
      },
      "source": [
        "№2-3 Вычислим интеграл <tex>$\\int\\limits_0^\\pi\\exp(x)cos(4x)$</tex> методами трапеций и Симпсона:"
      ]
    },
    {
      "cell_type": "code",
      "metadata": {
        "colab": {
          "base_uri": "https://localhost:8080/"
        },
        "id": "jEL7zNvCz03c",
        "outputId": "9f822ef8-e2b7-4148-a600-c2b31850640c"
      },
      "source": [
        "import scipy as sp\n",
        "import numpy as np\n",
        "import matplotlib.pyplot as plt\n",
        "import math\n",
        "\n",
        "\n",
        "def get_func(x):\n",
        "  return (1/(2+math.cos(x)))\n",
        "\n",
        "left = 0*np.pi\n",
        "right = 2*np.pi\n",
        "\n",
        "\n",
        "def integrate(get_func, left, right, n):\n",
        "  I = 0\n",
        "  In = np.zeros((n+1,))\n",
        "  step = (right-left)/n\n",
        "  for i in range (n+1):\n",
        "    I += step*(get_func(left+step*i)+get_func(left+step*(i+1)))/2 \n",
        "    In[i] = I\n",
        "  return (I, In)\n",
        "\n",
        "\n",
        "def simpson(get_func, left, right, n):\n",
        "    step = (right - left) / n\n",
        "    n = int(0.5*n)\n",
        "    I = 0\n",
        "    In = np.zeros((n+1, ))\n",
        "    for i in range(1, n):\n",
        "        I += step/3 * (get_func(left + (2 * i) * step) + 4 * get_func(left + (2 * i + 1) * step) + get_func(left + (2 * i + 2) * step))\n",
        "        In[i] = I\n",
        "    return (I, In)\n",
        "\n",
        "\n",
        "\n",
        "Integral, array  = integrate(get_func, left, right, 512)\n",
        "print('Используем метод трапеций:')\n",
        "print(Integral)\n",
        "print()\n",
        "Integral, array  = simpson(get_func, left, right, 512)\n",
        "print('Используем метод Симпсона:')\n",
        "print(Integral)\n"
      ],
      "execution_count": 20,
      "outputs": [
        {
          "output_type": "stream",
          "name": "stdout",
          "text": [
            "Используем метод трапеций:\n",
            "3.6316893952400537\n",
            "\n",
            "Используем метод Симпсона:\n",
            "3.6194172237958453\n"
          ]
        }
      ]
    },
    {
      "cell_type": "markdown",
      "metadata": {
        "id": "BOIlpd3P4_1Q"
      },
      "source": [
        "Посчитаем ошибку по формуле $R_{k} = \\frac{I_{2k} - I_{k}}{I_{4k} - I_{2k}}$ для двух методов подсчета интергала:"
      ]
    },
    {
      "cell_type": "code",
      "metadata": {
        "colab": {
          "base_uri": "https://localhost:8080/",
          "height": 571
        },
        "id": "vkbHupr30E--",
        "outputId": "e39ee9b0-8fe2-461e-a84a-8817bad70387"
      },
      "source": [
        "plt.plot(2**np.arange(1, 10),  mistake(intagrate));\n",
        "plt.plot(2**np.arange(1, 10),  mistake(simpson));\n",
        "\n",
        "mistake(integrate), mistake(simpson)"
      ],
      "execution_count": 21,
      "outputs": [
        {
          "output_type": "execute_result",
          "data": {
            "text/plain": [
              "([4.720662509321808,\n",
              "  2.897479013707054,\n",
              "  2.1443841738778318,\n",
              "  2.034144718392386,\n",
              "  2.0084591481589804,\n",
              "  2.0021099777527716,\n",
              "  2.0005271939087437,\n",
              "  2.000131779701167,\n",
              "  2.00003294373275],\n",
              " [1.3797104914755307,\n",
              "  3.654534231484599,\n",
              "  2.488491545111734,\n",
              "  2.093592998052642,\n",
              "  2.022655416876077,\n",
              "  2.0056326943149885,\n",
              "  2.0014062306131213,\n",
              "  2.0003514362774095,\n",
              "  2.0000878514927756])"
            ]
          },
          "metadata": {},
          "execution_count": 21
        },
        {
          "output_type": "display_data",
          "data": {
            "image/png": "[encoded data removed]",
            "text/plain": [
              "<Figure size 432x288 with 1 Axes>"
            ]
          },
          "metadata": {
            "needs_background": "light"
          }
        }
      ]
    },
    {
      "cell_type": "markdown",
      "metadata": {
        "id": "Co7GDdZqzfp4"
      },
      "source": [
        "№4 Скорректируем метод трапеций:"
      ]
    },
    {
      "cell_type": "code",
      "metadata": {
        "colab": {
          "base_uri": "https://localhost:8080/"
        },
        "id": "7_LP1w12eiB0",
        "outputId": "48ebef32-8e4d-4fc7-976c-675a7156e59a"
      },
      "source": [
        "from sympy import *\n",
        "import scipy as sp\n",
        "import numpy as np\n",
        "import matplotlib.pyplot as plt\n",
        "import math\n",
        "\n",
        "\n",
        "def get_func_1(x):\n",
        "  return (1/(2+math.cos(x)))\n",
        "\n",
        "left_1 = 0*np.pi\n",
        "right_1 = 2*np.pi\n",
        "\n",
        "\n",
        "def get_func(x):\n",
        "  return (math.exp(x) * math.cos(4*x))\n",
        "\n",
        "left = 0*np.pi\n",
        "right = np.pi\n",
        "\n",
        "\n",
        "def d_fun(x): \n",
        "    h = 1e-5 \n",
        "    return (get_func(x+h)-get_func(x))/h \n",
        "\n",
        "\n",
        "def smart_integrate(get_func, left, right, n):\n",
        "  I = 0\n",
        "  step = (right-left)/n\n",
        "  for i in range (n+1):\n",
        "    I += step*(get_func(left+step*i)+get_func(left+step*(i+1)))/2 \n",
        "  return (I - ((step**2)/12)*(d_fun(right) - (d_fun(left))))\n",
        "\n",
        "\n",
        "\n",
        "print(smart_integrate(get_func_1, left_1, right_1, 512))\n",
        "print(smart_integrate(get_func, left, right, 512))"
      ],
      "execution_count": 22,
      "outputs": [
        {
          "output_type": "stream",
          "name": "stdout",
          "text": [
            "3.6249821077061886\n",
            "1.4447986468755076\n"
          ]
        }
      ]
    },
    {
      "cell_type": "markdown",
      "metadata": {
        "id": "h7Vv33Yt6wuW"
      },
      "source": [
        "№8 Построим график функции $f(x) = x^3-3x^2+3x-1$.\n"
      ]
    },
    {
      "cell_type": "code",
      "metadata": {
        "colab": {
          "base_uri": "https://localhost:8080/",
          "height": 265
        },
        "id": "QFepvYuF9uSt",
        "outputId": "87573691-2645-4f56-f997-0515c2ef1588"
      },
      "source": [
        "import numpy as np\n",
        "import matplotlib.pyplot as plt\n",
        "\n",
        "\n",
        "def get_func(x):\n",
        "  return (x**3-3*x**2+3*x-1)\n",
        "\n",
        "\n",
        "fig, ax = plt.subplots()\n",
        "\n",
        "x = np.arange(-10, 10, 0.01)\n",
        "y = get_func(x)\n",
        "plt.plot(x, y)\n",
        "plt.show()"
      ],
      "execution_count": 23,
      "outputs": [
        {
          "output_type": "display_data",
          "data": {
            "image/png": "[encoded data removed]",
            "text/plain": [
              "<Figure size 432x288 with 1 Axes>"
            ]
          },
          "metadata": {
            "needs_background": "light"
          }
        }
      ]
    },
    {
      "cell_type": "markdown",
      "metadata": {
        "id": "Uwaql3S05K8S"
      },
      "source": [
        "Отобразим больше точек в окрестности $x = 1$."
      ]
    },
    {
      "cell_type": "code",
      "metadata": {
        "colab": {
          "base_uri": "https://localhost:8080/",
          "height": 289
        },
        "id": "7WYM1glQ8C0e",
        "outputId": "f4b6f286-214d-4a5c-ffe6-edd14432ba30"
      },
      "source": [
        "fig, ax = plt.subplots()\n",
        "\n",
        "x = np.arange(0.9999999, 1.0000011, 0.00000001)\n",
        "y = (x**3-3*x**2+3*x-1)\n",
        "plt.plot(x, y)\n",
        "plt.show()"
      ],
      "execution_count": 24,
      "outputs": [
        {
          "output_type": "display_data",
          "data": {
            "image/png": "[encoded data removed]",
            "text/plain": [
              "<Figure size 432x288 with 1 Axes>"
            ]
          },
          "metadata": {
            "needs_background": "light"
          }
        }
      ]
    },
    {
      "cell_type": "markdown",
      "metadata": {
        "id": "kb47jzTU-A5y"
      },
      "source": [
        "№8 Построим график функции $f(x) = x^3-3x^2+3x-1$.\n"
      ]
    },
    {
      "cell_type": "code",
      "metadata": {
        "colab": {
          "base_uri": "https://localhost:8080/",
          "height": 266
        },
        "id": "AN5JnXS9w18s",
        "outputId": "a6202ac4-9402-4dc2-ac28-2a7c52fcb114"
      },
      "source": [
        "import numpy as np\n",
        "import matplotlib.pyplot as plt\n",
        "\n",
        "def get_func(x):\n",
        "  return (x**3+2*x**2-x-2)\n",
        "\n",
        "\n",
        "fig, ax = plt.subplots()\n",
        "\n",
        "x = np.arange(-10, 10, 0.01)\n",
        "y = get_func(x)\n",
        "plt.plot(x, y)\n",
        "plt.show()"
      ],
      "execution_count": 25,
      "outputs": [
        {
          "output_type": "display_data",
          "data": {
            "image/png": "[encoded data removed]",
            "text/plain": [
              "<Figure size 432x288 with 1 Axes>"
            ]
          },
          "metadata": {
            "needs_background": "light"
          }
        }
      ]
    },
    {
      "cell_type": "markdown",
      "metadata": {
        "id": "P4P4w9sQ5O22"
      },
      "source": [
        "Отобразим больше точек в окрестности $x = 1$."
      ]
    },
    {
      "cell_type": "code",
      "metadata": {
        "colab": {
          "base_uri": "https://localhost:8080/",
          "height": 289
        },
        "id": "xBzGYgTkp519",
        "outputId": "33609d29-b604-4463-f3b4-c6b2e7a26901"
      },
      "source": [
        "import numpy as np\n",
        "import matplotlib.pyplot as plt\n",
        "\n",
        "\n",
        "def get_func(x):\n",
        "  return (x**3+2*x**2-x-2)\n",
        "\n",
        "fig, ax = plt.subplots()\n",
        "\n",
        "x = np.arange(0.9999999, 1.000001, 0.00000001)\n",
        "y = get_func(x)\n",
        "plt.plot(x, y)\n",
        "plt.show()"
      ],
      "execution_count": 26,
      "outputs": [
        {
          "output_type": "display_data",
          "data": {
            "image/png": "[encoded data removed]",
            "text/plain": [
              "<Figure size 432x288 with 1 Axes>"
            ]
          },
          "metadata": {
            "needs_background": "light"
          }
        }
      ]
    },
    {
      "cell_type": "markdown",
      "metadata": {
        "id": "7c_p0TsU5YA7"
      },
      "source": [
        "№7 $\\frac{-f(x_0-2h) + 16f(x_0-h) - 30f(x_0) + 16f(x_0+h) - f(x_0+2h)}{(12h^4)} = f''(x) + O(h^4)$"
      ]
    },
    {
      "cell_type": "code",
      "metadata": {
        "colab": {
          "base_uri": "https://localhost:8080/"
        },
        "id": "xVGzKEs37UYn",
        "outputId": "4745a10f-5488-42af-ae3a-95d3cdf851bb"
      },
      "source": [
        "from sympy import *\n",
        "import scipy as sp\n",
        "import numpy as np\n",
        "import matplotlib.pyplot as plt\n",
        "import math\n",
        "\n",
        "def get_func(x):\n",
        "  return (x**5 - 2*x + 3)\n",
        "\n",
        "def derivative(get_func, x, h):\n",
        "  der =  16 * get_func(x - h) - 30 * get_func(x) + 16 * get_func(x + h) - get_func(x + 2 * h) - get_func(x - 2 * h)\n",
        "  return der/(12 * h**2)\n",
        "\n",
        "\n",
        "derivative(get_func, 5, 0.001)"
      ],
      "execution_count": 27,
      "outputs": [
        {
          "output_type": "execute_result",
          "data": {
            "text/plain": [
              "2500.000000130361"
            ]
          },
          "metadata": {},
          "execution_count": 27
        }
      ]
    },
    {
      "cell_type": "code",
      "metadata": {
        "id": "UG6c0vGxFUT5"
      },
      "source": [
        ""
      ],
      "execution_count": null,
      "outputs": []
    }
  ]
}